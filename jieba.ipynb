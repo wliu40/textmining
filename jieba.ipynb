{
 "cells": [
  {
   "cell_type": "code",
   "execution_count": 2,
   "metadata": {
    "collapsed": true
   },
   "outputs": [],
   "source": [
    "import jieba.analyse"
   ]
  },
  {
   "cell_type": "code",
   "execution_count": 10,
   "metadata": {},
   "outputs": [
    {
     "name": "stdout",
     "output_type": "stream",
     "text": [
      "我, 喜欢, 读, 王小波, 小波, 的, 小说\n",
      "我, 喜欢, 读, 王小波, 的, 小说\n"
     ]
    }
   ],
   "source": [
    "sent = u\"我喜欢读王小波的小说\"\n",
    "words = jieba.cut(sent, cut_all = True) #全模式\n",
    "print(\", \".join(words))\n",
    "\n",
    "words1 = jieba.cut(sent) #精确模式\n",
    "print(\", \".join(words1))\n",
    "\n"
   ]
  },
  {
   "cell_type": "code",
   "execution_count": null,
   "metadata": {
    "collapsed": true
   },
   "outputs": [],
   "source": []
  }
 ],
 "metadata": {
  "kernelspec": {
   "display_name": "Python 3",
   "language": "python",
   "name": "python3"
  },
  "language_info": {
   "codemirror_mode": {
    "name": "ipython",
    "version": 3
   },
   "file_extension": ".py",
   "mimetype": "text/x-python",
   "name": "python",
   "nbconvert_exporter": "python",
   "pygments_lexer": "ipython3",
   "version": "3.6.1"
  }
 },
 "nbformat": 4,
 "nbformat_minor": 2
}
